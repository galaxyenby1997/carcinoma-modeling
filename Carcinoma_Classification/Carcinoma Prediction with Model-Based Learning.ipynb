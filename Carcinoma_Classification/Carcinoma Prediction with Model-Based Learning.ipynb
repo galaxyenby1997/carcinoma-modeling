{
 "cells": [
  {
   "cell_type": "markdown",
   "metadata": {},
   "source": [
    "This data was pulled from the UCI Respository and is a REAL dataset\n",
    "go to http://archive.ics.uci.edu/ml/datasets/HCC+Survival for more information!\n",
    "\n",
    "Abstract: Hepatocellular Carcinoma dataset (HCC dataset) \n",
    "was collected at a University Hospital in Portugal. \n",
    "It contains real clinical data of 165 patients diagnosed with HCC. This project will be \n",
    "an interesting look into doing classification with pretty small data, only 165 points.\n",
    "With almost 50 features (dimensions), this is a hard problem!\n",
    "\n",
    "It's also a good problem on tackling datasets that are small, as doing maximum likelihood\n",
    "estimation on small data can give results that might not be flexible for future prediction, while a Bayesian inference will give the whole distribution to play with and do some analysis. The Bayesian contet also lets us put some prior information (even if it isn't so strong), which can give us an edge over maximum likelihood when we don't have a lot of data, especially disease data. \n"
   ]
  },
  {
   "cell_type": "code",
   "execution_count": 8,
   "metadata": {},
   "outputs": [],
   "source": [
    "# First, we read in the file and import packages\n",
    "import numpy as np\n",
    "import pandas as pd\n",
    "from sklearn.linear_model import LogisticRegression\n",
    "import matplotlib.pyplot as plt\n",
    "import seaborn as sns\n",
    "import pymc3 as pm\n",
    "from sklearn.metrics import confusion_matrix as cmatrix\n"
   ]
  },
  {
   "cell_type": "code",
   "execution_count": 9,
   "metadata": {},
   "outputs": [],
   "source": [
    "# Load the HCC data\n",
    "hcc_data = pd.read_csv('/Users/rabeya/Carcinoma_Classification/hcc.csv')"
   ]
  },
  {
   "cell_type": "code",
   "execution_count": 10,
   "metadata": {},
   "outputs": [
    {
     "data": {
      "text/html": [
       "<div>\n",
       "<style scoped>\n",
       "    .dataframe tbody tr th:only-of-type {\n",
       "        vertical-align: middle;\n",
       "    }\n",
       "\n",
       "    .dataframe tbody tr th {\n",
       "        vertical-align: top;\n",
       "    }\n",
       "\n",
       "    .dataframe thead th {\n",
       "        text-align: right;\n",
       "    }\n",
       "</style>\n",
       "<table border=\"1\" class=\"dataframe\">\n",
       "  <thead>\n",
       "    <tr style=\"text-align: right;\">\n",
       "      <th></th>\n",
       "      <th>1.Gen</th>\n",
       "      <th>2.Sym</th>\n",
       "      <th>3.Alc</th>\n",
       "      <th>4.HepB</th>\n",
       "      <th>5.HepB</th>\n",
       "      <th>6.HepB</th>\n",
       "      <th>7.HepC</th>\n",
       "      <th>8.Cir</th>\n",
       "      <th>9.End</th>\n",
       "      <th>10.Smo</th>\n",
       "      <th>...</th>\n",
       "      <th>41.Alk</th>\n",
       "      <th>42.Prot</th>\n",
       "      <th>43.Crea</th>\n",
       "      <th>44.NNod</th>\n",
       "      <th>45.dnod</th>\n",
       "      <th>46.Bil</th>\n",
       "      <th>47.Iro</th>\n",
       "      <th>48.Oxy</th>\n",
       "      <th>49.Fer</th>\n",
       "      <th>Class</th>\n",
       "    </tr>\n",
       "  </thead>\n",
       "  <tbody>\n",
       "    <tr>\n",
       "      <th>0</th>\n",
       "      <td>1</td>\n",
       "      <td>0</td>\n",
       "      <td>1</td>\n",
       "      <td>0</td>\n",
       "      <td>0</td>\n",
       "      <td>0</td>\n",
       "      <td>0</td>\n",
       "      <td>1</td>\n",
       "      <td>0</td>\n",
       "      <td>1</td>\n",
       "      <td>...</td>\n",
       "      <td>150</td>\n",
       "      <td>7.1</td>\n",
       "      <td>0.7</td>\n",
       "      <td>1</td>\n",
       "      <td>3.5</td>\n",
       "      <td>0.5</td>\n",
       "      <td>?</td>\n",
       "      <td>?</td>\n",
       "      <td>?</td>\n",
       "      <td>1</td>\n",
       "    </tr>\n",
       "    <tr>\n",
       "      <th>1</th>\n",
       "      <td>0</td>\n",
       "      <td>?</td>\n",
       "      <td>0</td>\n",
       "      <td>0</td>\n",
       "      <td>0</td>\n",
       "      <td>0</td>\n",
       "      <td>1</td>\n",
       "      <td>1</td>\n",
       "      <td>?</td>\n",
       "      <td>?</td>\n",
       "      <td>...</td>\n",
       "      <td>?</td>\n",
       "      <td>?</td>\n",
       "      <td>?</td>\n",
       "      <td>1</td>\n",
       "      <td>1.8</td>\n",
       "      <td>?</td>\n",
       "      <td>?</td>\n",
       "      <td>?</td>\n",
       "      <td>?</td>\n",
       "      <td>1</td>\n",
       "    </tr>\n",
       "    <tr>\n",
       "      <th>2</th>\n",
       "      <td>1</td>\n",
       "      <td>0</td>\n",
       "      <td>1</td>\n",
       "      <td>1</td>\n",
       "      <td>0</td>\n",
       "      <td>1</td>\n",
       "      <td>0</td>\n",
       "      <td>1</td>\n",
       "      <td>0</td>\n",
       "      <td>1</td>\n",
       "      <td>...</td>\n",
       "      <td>109</td>\n",
       "      <td>7</td>\n",
       "      <td>2.1</td>\n",
       "      <td>5</td>\n",
       "      <td>13</td>\n",
       "      <td>0.1</td>\n",
       "      <td>28</td>\n",
       "      <td>6</td>\n",
       "      <td>16</td>\n",
       "      <td>1</td>\n",
       "    </tr>\n",
       "    <tr>\n",
       "      <th>3</th>\n",
       "      <td>1</td>\n",
       "      <td>1</td>\n",
       "      <td>1</td>\n",
       "      <td>0</td>\n",
       "      <td>0</td>\n",
       "      <td>0</td>\n",
       "      <td>0</td>\n",
       "      <td>1</td>\n",
       "      <td>0</td>\n",
       "      <td>1</td>\n",
       "      <td>...</td>\n",
       "      <td>174</td>\n",
       "      <td>8.1</td>\n",
       "      <td>1.11</td>\n",
       "      <td>2</td>\n",
       "      <td>15.7</td>\n",
       "      <td>0.2</td>\n",
       "      <td>?</td>\n",
       "      <td>?</td>\n",
       "      <td>?</td>\n",
       "      <td>0</td>\n",
       "    </tr>\n",
       "    <tr>\n",
       "      <th>4</th>\n",
       "      <td>1</td>\n",
       "      <td>1</td>\n",
       "      <td>1</td>\n",
       "      <td>1</td>\n",
       "      <td>0</td>\n",
       "      <td>1</td>\n",
       "      <td>0</td>\n",
       "      <td>1</td>\n",
       "      <td>0</td>\n",
       "      <td>1</td>\n",
       "      <td>...</td>\n",
       "      <td>109</td>\n",
       "      <td>6.9</td>\n",
       "      <td>1.8</td>\n",
       "      <td>1</td>\n",
       "      <td>9</td>\n",
       "      <td>?</td>\n",
       "      <td>59</td>\n",
       "      <td>15</td>\n",
       "      <td>22</td>\n",
       "      <td>1</td>\n",
       "    </tr>\n",
       "    <tr>\n",
       "      <th>...</th>\n",
       "      <td>...</td>\n",
       "      <td>...</td>\n",
       "      <td>...</td>\n",
       "      <td>...</td>\n",
       "      <td>...</td>\n",
       "      <td>...</td>\n",
       "      <td>...</td>\n",
       "      <td>...</td>\n",
       "      <td>...</td>\n",
       "      <td>...</td>\n",
       "      <td>...</td>\n",
       "      <td>...</td>\n",
       "      <td>...</td>\n",
       "      <td>...</td>\n",
       "      <td>...</td>\n",
       "      <td>...</td>\n",
       "      <td>...</td>\n",
       "      <td>...</td>\n",
       "      <td>...</td>\n",
       "      <td>...</td>\n",
       "      <td>...</td>\n",
       "    </tr>\n",
       "    <tr>\n",
       "      <th>160</th>\n",
       "      <td>0</td>\n",
       "      <td>0</td>\n",
       "      <td>1</td>\n",
       "      <td>?</td>\n",
       "      <td>?</td>\n",
       "      <td>?</td>\n",
       "      <td>1</td>\n",
       "      <td>1</td>\n",
       "      <td>0</td>\n",
       "      <td>1</td>\n",
       "      <td>...</td>\n",
       "      <td>109</td>\n",
       "      <td>7.6</td>\n",
       "      <td>0.7</td>\n",
       "      <td>5</td>\n",
       "      <td>3</td>\n",
       "      <td>?</td>\n",
       "      <td>?</td>\n",
       "      <td>?</td>\n",
       "      <td>?</td>\n",
       "      <td>1</td>\n",
       "    </tr>\n",
       "    <tr>\n",
       "      <th>161</th>\n",
       "      <td>0</td>\n",
       "      <td>1</td>\n",
       "      <td>0</td>\n",
       "      <td>?</td>\n",
       "      <td>?</td>\n",
       "      <td>?</td>\n",
       "      <td>?</td>\n",
       "      <td>1</td>\n",
       "      <td>0</td>\n",
       "      <td>0</td>\n",
       "      <td>...</td>\n",
       "      <td>280</td>\n",
       "      <td>6.7</td>\n",
       "      <td>0.7</td>\n",
       "      <td>1</td>\n",
       "      <td>2.2</td>\n",
       "      <td>2.3</td>\n",
       "      <td>?</td>\n",
       "      <td>?</td>\n",
       "      <td>?</td>\n",
       "      <td>0</td>\n",
       "    </tr>\n",
       "    <tr>\n",
       "      <th>162</th>\n",
       "      <td>1</td>\n",
       "      <td>0</td>\n",
       "      <td>1</td>\n",
       "      <td>0</td>\n",
       "      <td>0</td>\n",
       "      <td>0</td>\n",
       "      <td>0</td>\n",
       "      <td>1</td>\n",
       "      <td>0</td>\n",
       "      <td>1</td>\n",
       "      <td>...</td>\n",
       "      <td>181</td>\n",
       "      <td>7.5</td>\n",
       "      <td>1.46</td>\n",
       "      <td>5</td>\n",
       "      <td>18.6</td>\n",
       "      <td>?</td>\n",
       "      <td>?</td>\n",
       "      <td>?</td>\n",
       "      <td>?</td>\n",
       "      <td>1</td>\n",
       "    </tr>\n",
       "    <tr>\n",
       "      <th>163</th>\n",
       "      <td>1</td>\n",
       "      <td>0</td>\n",
       "      <td>1</td>\n",
       "      <td>1</td>\n",
       "      <td>0</td>\n",
       "      <td>1</td>\n",
       "      <td>1</td>\n",
       "      <td>1</td>\n",
       "      <td>1</td>\n",
       "      <td>1</td>\n",
       "      <td>...</td>\n",
       "      <td>170</td>\n",
       "      <td>8.4</td>\n",
       "      <td>0.74</td>\n",
       "      <td>5</td>\n",
       "      <td>18</td>\n",
       "      <td>?</td>\n",
       "      <td>?</td>\n",
       "      <td>?</td>\n",
       "      <td>?</td>\n",
       "      <td>0</td>\n",
       "    </tr>\n",
       "    <tr>\n",
       "      <th>164</th>\n",
       "      <td>1</td>\n",
       "      <td>1</td>\n",
       "      <td>1</td>\n",
       "      <td>0</td>\n",
       "      <td>0</td>\n",
       "      <td>0</td>\n",
       "      <td>1</td>\n",
       "      <td>1</td>\n",
       "      <td>0</td>\n",
       "      <td>1</td>\n",
       "      <td>...</td>\n",
       "      <td>462</td>\n",
       "      <td>6.6</td>\n",
       "      <td>3.95</td>\n",
       "      <td>5</td>\n",
       "      <td>8.5</td>\n",
       "      <td>19.8</td>\n",
       "      <td>?</td>\n",
       "      <td>?</td>\n",
       "      <td>?</td>\n",
       "      <td>0</td>\n",
       "    </tr>\n",
       "  </tbody>\n",
       "</table>\n",
       "<p>165 rows × 50 columns</p>\n",
       "</div>"
      ],
      "text/plain": [
       "     1.Gen 2.Sym  3.Alc 4.HepB 5.HepB 6.HepB 7.HepC  8.Cir 9.End 10.Smo  ...  \\\n",
       "0        1     0      1      0      0      0      0      1     0      1  ...   \n",
       "1        0     ?      0      0      0      0      1      1     ?      ?  ...   \n",
       "2        1     0      1      1      0      1      0      1     0      1  ...   \n",
       "3        1     1      1      0      0      0      0      1     0      1  ...   \n",
       "4        1     1      1      1      0      1      0      1     0      1  ...   \n",
       "..     ...   ...    ...    ...    ...    ...    ...    ...   ...    ...  ...   \n",
       "160      0     0      1      ?      ?      ?      1      1     0      1  ...   \n",
       "161      0     1      0      ?      ?      ?      ?      1     0      0  ...   \n",
       "162      1     0      1      0      0      0      0      1     0      1  ...   \n",
       "163      1     0      1      1      0      1      1      1     1      1  ...   \n",
       "164      1     1      1      0      0      0      1      1     0      1  ...   \n",
       "\n",
       "    41.Alk 42.Prot 43.Crea 44.NNod 45.dnod 46.Bil 47.Iro 48.Oxy 49.Fer Class  \n",
       "0      150     7.1     0.7       1     3.5    0.5      ?      ?      ?     1  \n",
       "1        ?       ?       ?       1     1.8      ?      ?      ?      ?     1  \n",
       "2      109       7     2.1       5      13    0.1     28      6     16     1  \n",
       "3      174     8.1    1.11       2    15.7    0.2      ?      ?      ?     0  \n",
       "4      109     6.9     1.8       1       9      ?     59     15     22     1  \n",
       "..     ...     ...     ...     ...     ...    ...    ...    ...    ...   ...  \n",
       "160    109     7.6     0.7       5       3      ?      ?      ?      ?     1  \n",
       "161    280     6.7     0.7       1     2.2    2.3      ?      ?      ?     0  \n",
       "162    181     7.5    1.46       5    18.6      ?      ?      ?      ?     1  \n",
       "163    170     8.4    0.74       5      18      ?      ?      ?      ?     0  \n",
       "164    462     6.6    3.95       5     8.5   19.8      ?      ?      ?     0  \n",
       "\n",
       "[165 rows x 50 columns]"
      ]
     },
     "execution_count": 10,
     "metadata": {},
     "output_type": "execute_result"
    }
   ],
   "source": [
    "hcc_data     "
   ]
  },
  {
   "cell_type": "markdown",
   "metadata": {},
   "source": [
    "According to the UCI website,\n",
    "this is an heterogeneous dataset, with 23 quantitative variables, \n",
    "and 26 qualitative variables. Overall, missing data represents 10.22% \n",
    "of the whole dataset and only eight patients have complete information \n",
    "in all fields (4.85%). The target variables is the survival at 1 year, \n",
    "and was encoded as a binary variable: 0 (dies) and 1 (lives). \n",
    "A certain degree of class-imbalance is also present (63 cases labeled as \"dies\" \n",
    "and 102 as \"alive\")."
   ]
  },
  {
   "cell_type": "markdown",
   "metadata": {},
   "source": [
    "Our strategy for creating a classification algorithm is to use something different from supervised learning. Supervised learning, of course, deals with creating algorithms to optimize a function, or a mapping/relationship between the input variables (or features), and output labels (1=life, 0=death). Some of thse optimizers include backpropagation (neural networks) and gradient descent (for linear, logistic regression). Random forests and decision trees are also supervised learning, but they don't use gradient optimization. Instead they use stuff called \"information-theory\" to create their function mappings.\n",
    "\n",
    "We won't be useing a direct supervised learning algorithm. Instead, after fixing missing values and balancing our dataset, we'll be using an optimizer called Expecgation-Maximization to create a generative model called a Gaussian Mixture model. We can then use this model to calculate the likelihood that a new unseen test-point is in class 1 or 0."
   ]
  },
  {
   "cell_type": "markdown",
   "metadata": {},
   "source": [
    "# Part 1: Exploratory Data Analysis (EDA) –– Fixing Missing Values"
   ]
  },
  {
   "cell_type": "markdown",
   "metadata": {},
   "source": [
    "First we need to fix some missing data; either we replace the missing one with the\n",
    "mean around the others, or drop it, or some other shit. We'll use Miria santos's method of the HEOM distance to do this. "
   ]
  },
  {
   "cell_type": "code",
   "execution_count": 11,
   "metadata": {},
   "outputs": [
    {
     "data": {
      "text/plain": [
       "Index(['1.Gen', '2.Sym', '3.Alc', '4.HepB', '5.HepB', '6.HepB', '7.HepC',\n",
       "       '8.Cir', '9.End', '10.Smo', '11.Dia', '12.Obe', '13.Hem', '14.Art',\n",
       "       '15.CRen', '16.HIV', '17.Non', '18.EVar', '19.Spl', '20.PHyp', '21.Thr',\n",
       "       '22.LMet', '23.Rad', '24.Agedia', '25.Alcpd', '26.cigpy', '27.Sta',\n",
       "       '28.Encdeg', '29.Ascdeg', ' 30.IntNorRat', ' 31.Alp', ' 32.Hae',\n",
       "       ' 33.MCorVol', ' 34.Leu', '35.Plat', '36.Alb', '37.Bil', '38.Ala',\n",
       "       '39.Aspa', '40.Gam', '41.Alk', '42.Prot', '43.Crea', '44.NNod',\n",
       "       '45.dnod', '46.Bil', '47.Iro', '48.Oxy', '49.Fer', 'Class'],\n",
       "      dtype='object')"
      ]
     },
     "execution_count": 11,
     "metadata": {},
     "output_type": "execute_result"
    }
   ],
   "source": [
    "hcc_data.columns"
   ]
  },
  {
   "cell_type": "code",
   "execution_count": 12,
   "metadata": {},
   "outputs": [],
   "source": [
    "# in this cell, we have a feature data_type dictionary from the UCI repository \n",
    "nominal = 'nominal'\n",
    "ordinal = 'ordinal'\n",
    "integer = 'integer'\n",
    "continuous = 'continuous'\n",
    "ftypes = {0: nominal,\n",
    "1: nominal,\n",
    "2: nominal,\n",
    "3: nominal,\n",
    "4: nominal,\n",
    "5: nominal,\n",
    "6: nominal,\n",
    "7: nominal,\n",
    "8: nominal,\n",
    "9: nominal,\n",
    "10: nominal,\n",
    "11: nominal,\n",
    "12: nominal,\n",
    "13: nominal,\n",
    "14: nominal,\n",
    "15: nominal,\n",
    "16: nominal,\n",
    "17: nominal,\n",
    "18: nominal,\n",
    "19: nominal,\n",
    "20: nominal,\n",
    "21: nominal,\n",
    "22: nominal,\n",
    "23: integer,\n",
    "24: continuous,\n",
    "25: continuous,\n",
    "26: ordinal,\n",
    "27: ordinal,\n",
    "28: ordinal,\n",
    "29: continuous,\n",
    "30: continuous,\n",
    "31: continuous,\n",
    "32: continuous,\n",
    "33: continuous,\n",
    "34: continuous,\n",
    "35: continuous,\n",
    "36: continuous,\n",
    "37: continuous,\n",
    "38: continuous,\n",
    "39: continuous,\n",
    "40: continuous,\n",
    "41: continuous,\n",
    "42: continuous,\n",
    "43: integer,\n",
    "44: continuous,\n",
    "45: continuous,\n",
    "46: continuous,\n",
    "47: continuous,\n",
    "48: continuous,\n",
    "49: nominal}"
   ]
  },
  {
   "cell_type": "code",
   "execution_count": 13,
   "metadata": {},
   "outputs": [],
   "source": [
    "# this cell programs the distance functions we use for fixing the missing values\n",
    "import math\n",
    "def HEOM_dist(rowA, rowB, df):\n",
    "    dist_vec = np.asarray(dist_list(rowA, rowB,df))\n",
    "    return np.linalg.norm(dist_vec)\n",
    "\n",
    "def dist_list(vecA, vecB, df):\n",
    "    L = []\n",
    "    for j in range(0,len(df.columns)-1):\n",
    "        # if the attribute is missing from vecA or vecB\n",
    "        if ((vecA[j] == '?') or (vecB[j] == '?')):\n",
    "            L.append(1)\n",
    "        else:\n",
    "            # if the attribute is there and the feature is discrete\n",
    "            if ((ftypes[j] == 'nominal') or (ftypes[j] == 'ordinal') or (ftypes[j] == 'integer')):\n",
    "                if (float(vecA[j]) == float(vecB[j])):\n",
    "                    L.append(0)\n",
    "                else:\n",
    "                    L.append(1)\n",
    "            # if the attribute is there and the feature is continuous\n",
    "            elif (ftypes[j] == 'continuous'):\n",
    "                numerator = abs(float(vecA[j])-float(vecB[j]))\n",
    "                # denominator is tricky. \n",
    "                # first make a copy of df.iloc[:,j]  \n",
    "                copy = df.iloc[:,j].copy().values\n",
    "                # then delete '?'\n",
    "                copy = np.delete(copy, np.where(copy=='?'))\n",
    "                # finally convert to float\n",
    "                copy = copy.astype(np.float)\n",
    "                denominator = max(copy)-min(copy)\n",
    "                ans = numerator/denominator\n",
    "                L.append(ans)\n",
    "    # return the list of distances (based on the coordinate, j)\n",
    "    return L        "
   ]
  },
  {
   "cell_type": "code",
   "execution_count": 14,
   "metadata": {},
   "outputs": [
    {
     "data": {
      "application/vnd.jupyter.widget-view+json": {
       "model_id": "09161a3508944602a40a7a75120512f7",
       "version_major": 2,
       "version_minor": 0
      },
      "text/plain": [
       "HBox(children=(IntProgress(value=0, max=165), HTML(value='')))"
      ]
     },
     "metadata": {},
     "output_type": "display_data"
    },
    {
     "name": "stderr",
     "output_type": "stream",
     "text": [
      "/Users/rabeya/opt/anaconda3/lib/python3.7/site-packages/ipykernel_launcher.py:29: DeprecationWarning: `np.float` is a deprecated alias for the builtin `float`. To silence this warning, use `float` by itself. Doing this will not modify any behavior and is safe. If you specifically wanted the numpy scalar type, use `np.float64` here.\n",
      "Deprecated in NumPy 1.20; for more details and guidance: https://numpy.org/devdocs/release/1.20.0-notes.html#deprecations\n"
     ]
    },
    {
     "name": "stdout",
     "output_type": "stream",
     "text": [
      "\n"
     ]
    }
   ],
   "source": [
    "# Now let's fix the missing values!\n",
    "# for each row-vector v, check if there's missing values\n",
    "# if there is, we take distancees between v and the set of remaining rows\n",
    "    # we choose the row-vector w closest, and fill in the missing value\n",
    "# if v has no missing-values at all, we continue in the loop\n",
    "import time\n",
    "from tqdm import tqdm_notebook as tqdm\n",
    "\n",
    "# initialize the new empty dataframe (0 rows, all columns)\n",
    "new_df = pd.DataFrame(columns=hcc_data.columns[:-1])\n",
    "\n",
    "for i in tqdm(hcc_data.index):\n",
    "    # each row \n",
    "    row_i = hcc_data.iloc[i, :][:-1]\n",
    "    if ('?' in row_i.values):\n",
    "        # if the row does have any missing values:\n",
    "        heom_distances = []\n",
    "        rest = hcc_data.index.delete(i)\n",
    "        for j in rest:\n",
    "            # jth-vector is row_j\n",
    "            row_j = hcc_data.iloc[j,:][:-1]\n",
    "            # before calculating HEOM, check row_j has complete info in the wanted features\n",
    "            # if row_j does, calculate HEOM. if not, skip over it.\n",
    "            # check where the '?' is in row_i, and if row_j has complete data in the same spots\n",
    "            row_i_missing = np.where(row_i.values == '?')[0]\n",
    "            if ('?' not in row_j.values[row_i_missing]):\n",
    "                # if row_j has no missing values in the same spots,\n",
    "                # then compute the HEOM distance\n",
    "                D = HEOM_dist(row_i, row_j, hcc_data)\n",
    "                heom_distances.append((j,D))\n",
    "            else:\n",
    "                # otherwise skip this vector and continue with the loop\n",
    "                continue\n",
    "                \n",
    "        # after the distances are computed and stored in a list:       \n",
    "        # closest vector to row_i according to distance D\n",
    "        closest_ind = min(heom_distances, key=lambda x: x[1])[0]\n",
    "        # we need to fill in the missing attributes in row_i from closest_v\n",
    "        closest_v = hcc_data.iloc[closest_ind, :][:-1].values # this is the row-vector in hcc_data\n",
    "        # replace the missing attributes from row_i with the corresponding ones from\n",
    "        # closest_v\n",
    "        # first we get the indices of the missing_value (the '?' value)\n",
    "        missing_indexes = np.where(row_i.values == '?')[0]\n",
    "        # then we get the corresponding values from closest_v\n",
    "        corresponding_vals = closest_v[missing_indexes.tolist()]\n",
    "        # finally we replace the values in row_i with the new corresponding values\n",
    "        row_i[missing_indexes] = corresponding_vals\n",
    "        # finally update the empty dataframe by adding the row\n",
    "        new_df = new_df.append(row_i, ignore_index=True)\n",
    "    else:\n",
    "        # if there is no missing attribute values in row_i\n",
    "        # just update the new_df dataframe by adding the row\n",
    "        new_df = new_df.append(row_i, ignore_index=True)\n",
    "        \n",
    "    time.sleep(0.25)\n",
    "            \n",
    "   "
   ]
  },
  {
   "cell_type": "code",
   "execution_count": 15,
   "metadata": {},
   "outputs": [
    {
     "data": {
      "text/html": [
       "<div>\n",
       "<style scoped>\n",
       "    .dataframe tbody tr th:only-of-type {\n",
       "        vertical-align: middle;\n",
       "    }\n",
       "\n",
       "    .dataframe tbody tr th {\n",
       "        vertical-align: top;\n",
       "    }\n",
       "\n",
       "    .dataframe thead th {\n",
       "        text-align: right;\n",
       "    }\n",
       "</style>\n",
       "<table border=\"1\" class=\"dataframe\">\n",
       "  <thead>\n",
       "    <tr style=\"text-align: right;\">\n",
       "      <th></th>\n",
       "      <th>1.Gen</th>\n",
       "      <th>2.Sym</th>\n",
       "      <th>3.Alc</th>\n",
       "      <th>4.HepB</th>\n",
       "      <th>5.HepB</th>\n",
       "      <th>6.HepB</th>\n",
       "      <th>7.HepC</th>\n",
       "      <th>8.Cir</th>\n",
       "      <th>9.End</th>\n",
       "      <th>10.Smo</th>\n",
       "      <th>...</th>\n",
       "      <th>41.Alk</th>\n",
       "      <th>42.Prot</th>\n",
       "      <th>43.Crea</th>\n",
       "      <th>44.NNod</th>\n",
       "      <th>45.dnod</th>\n",
       "      <th>46.Bil</th>\n",
       "      <th>47.Iro</th>\n",
       "      <th>48.Oxy</th>\n",
       "      <th>49.Fer</th>\n",
       "      <th>Class</th>\n",
       "    </tr>\n",
       "  </thead>\n",
       "  <tbody>\n",
       "    <tr>\n",
       "      <th>0</th>\n",
       "      <td>1</td>\n",
       "      <td>0</td>\n",
       "      <td>1</td>\n",
       "      <td>0</td>\n",
       "      <td>0</td>\n",
       "      <td>0</td>\n",
       "      <td>0</td>\n",
       "      <td>1</td>\n",
       "      <td>0</td>\n",
       "      <td>1</td>\n",
       "      <td>...</td>\n",
       "      <td>150</td>\n",
       "      <td>7.1</td>\n",
       "      <td>0.7</td>\n",
       "      <td>1</td>\n",
       "      <td>3.5</td>\n",
       "      <td>0.5</td>\n",
       "      <td>52.5</td>\n",
       "      <td>37</td>\n",
       "      <td>856</td>\n",
       "      <td>1</td>\n",
       "    </tr>\n",
       "    <tr>\n",
       "      <th>1</th>\n",
       "      <td>0</td>\n",
       "      <td>0</td>\n",
       "      <td>0</td>\n",
       "      <td>0</td>\n",
       "      <td>0</td>\n",
       "      <td>0</td>\n",
       "      <td>1</td>\n",
       "      <td>1</td>\n",
       "      <td>0</td>\n",
       "      <td>0</td>\n",
       "      <td>...</td>\n",
       "      <td>433</td>\n",
       "      <td>6.5</td>\n",
       "      <td>0.87</td>\n",
       "      <td>1</td>\n",
       "      <td>1.8</td>\n",
       "      <td>0.4</td>\n",
       "      <td>52.5</td>\n",
       "      <td>37</td>\n",
       "      <td>856</td>\n",
       "      <td>1</td>\n",
       "    </tr>\n",
       "    <tr>\n",
       "      <th>2</th>\n",
       "      <td>1</td>\n",
       "      <td>0</td>\n",
       "      <td>1</td>\n",
       "      <td>1</td>\n",
       "      <td>0</td>\n",
       "      <td>1</td>\n",
       "      <td>0</td>\n",
       "      <td>1</td>\n",
       "      <td>0</td>\n",
       "      <td>1</td>\n",
       "      <td>...</td>\n",
       "      <td>109</td>\n",
       "      <td>7</td>\n",
       "      <td>2.1</td>\n",
       "      <td>5</td>\n",
       "      <td>13</td>\n",
       "      <td>0.1</td>\n",
       "      <td>28</td>\n",
       "      <td>6</td>\n",
       "      <td>16</td>\n",
       "      <td>1</td>\n",
       "    </tr>\n",
       "    <tr>\n",
       "      <th>3</th>\n",
       "      <td>1</td>\n",
       "      <td>1</td>\n",
       "      <td>1</td>\n",
       "      <td>0</td>\n",
       "      <td>0</td>\n",
       "      <td>0</td>\n",
       "      <td>0</td>\n",
       "      <td>1</td>\n",
       "      <td>0</td>\n",
       "      <td>1</td>\n",
       "      <td>...</td>\n",
       "      <td>174</td>\n",
       "      <td>8.1</td>\n",
       "      <td>1.11</td>\n",
       "      <td>2</td>\n",
       "      <td>15.7</td>\n",
       "      <td>0.2</td>\n",
       "      <td>52.5</td>\n",
       "      <td>37</td>\n",
       "      <td>856</td>\n",
       "      <td>0</td>\n",
       "    </tr>\n",
       "    <tr>\n",
       "      <th>4</th>\n",
       "      <td>1</td>\n",
       "      <td>1</td>\n",
       "      <td>1</td>\n",
       "      <td>1</td>\n",
       "      <td>0</td>\n",
       "      <td>1</td>\n",
       "      <td>0</td>\n",
       "      <td>1</td>\n",
       "      <td>0</td>\n",
       "      <td>1</td>\n",
       "      <td>...</td>\n",
       "      <td>109</td>\n",
       "      <td>6.9</td>\n",
       "      <td>1.8</td>\n",
       "      <td>1</td>\n",
       "      <td>9</td>\n",
       "      <td>0.1</td>\n",
       "      <td>59</td>\n",
       "      <td>15</td>\n",
       "      <td>22</td>\n",
       "      <td>1</td>\n",
       "    </tr>\n",
       "  </tbody>\n",
       "</table>\n",
       "<p>5 rows × 50 columns</p>\n",
       "</div>"
      ],
      "text/plain": [
       "  1.Gen 2.Sym 3.Alc 4.HepB 5.HepB 6.HepB 7.HepC 8.Cir 9.End 10.Smo  ...  \\\n",
       "0     1     0     1      0      0      0      0     1     0      1  ...   \n",
       "1     0     0     0      0      0      0      1     1     0      0  ...   \n",
       "2     1     0     1      1      0      1      0     1     0      1  ...   \n",
       "3     1     1     1      0      0      0      0     1     0      1  ...   \n",
       "4     1     1     1      1      0      1      0     1     0      1  ...   \n",
       "\n",
       "  41.Alk 42.Prot 43.Crea 44.NNod 45.dnod 46.Bil 47.Iro 48.Oxy 49.Fer Class  \n",
       "0    150     7.1     0.7       1     3.5    0.5   52.5     37    856     1  \n",
       "1    433     6.5    0.87       1     1.8    0.4   52.5     37    856     1  \n",
       "2    109       7     2.1       5      13    0.1     28      6     16     1  \n",
       "3    174     8.1    1.11       2    15.7    0.2   52.5     37    856     0  \n",
       "4    109     6.9     1.8       1       9    0.1     59     15     22     1  \n",
       "\n",
       "[5 rows x 50 columns]"
      ]
     },
     "execution_count": 15,
     "metadata": {},
     "output_type": "execute_result"
    }
   ],
   "source": [
    "new_df['Class'] = hcc_data['Class']\n",
    "new_df.head()"
   ]
  },
  {
   "cell_type": "code",
   "execution_count": 16,
   "metadata": {},
   "outputs": [
    {
     "data": {
      "text/html": [
       "<div>\n",
       "<style scoped>\n",
       "    .dataframe tbody tr th:only-of-type {\n",
       "        vertical-align: middle;\n",
       "    }\n",
       "\n",
       "    .dataframe tbody tr th {\n",
       "        vertical-align: top;\n",
       "    }\n",
       "\n",
       "    .dataframe thead th {\n",
       "        text-align: right;\n",
       "    }\n",
       "</style>\n",
       "<table border=\"1\" class=\"dataframe\">\n",
       "  <thead>\n",
       "    <tr style=\"text-align: right;\">\n",
       "      <th></th>\n",
       "      <th>1.Gen</th>\n",
       "      <th>2.Sym</th>\n",
       "      <th>3.Alc</th>\n",
       "      <th>4.HepB</th>\n",
       "      <th>5.HepB</th>\n",
       "      <th>6.HepB</th>\n",
       "      <th>7.HepC</th>\n",
       "      <th>8.Cir</th>\n",
       "      <th>9.End</th>\n",
       "      <th>10.Smo</th>\n",
       "      <th>...</th>\n",
       "      <th>41.Alk</th>\n",
       "      <th>42.Prot</th>\n",
       "      <th>43.Crea</th>\n",
       "      <th>44.NNod</th>\n",
       "      <th>45.dnod</th>\n",
       "      <th>46.Bil</th>\n",
       "      <th>47.Iro</th>\n",
       "      <th>48.Oxy</th>\n",
       "      <th>49.Fer</th>\n",
       "      <th>Class</th>\n",
       "    </tr>\n",
       "  </thead>\n",
       "  <tbody>\n",
       "    <tr>\n",
       "      <th>0</th>\n",
       "      <td>1</td>\n",
       "      <td>0</td>\n",
       "      <td>1</td>\n",
       "      <td>0</td>\n",
       "      <td>0</td>\n",
       "      <td>0</td>\n",
       "      <td>0</td>\n",
       "      <td>1</td>\n",
       "      <td>0</td>\n",
       "      <td>1</td>\n",
       "      <td>...</td>\n",
       "      <td>150.0</td>\n",
       "      <td>7.1</td>\n",
       "      <td>0.70</td>\n",
       "      <td>1</td>\n",
       "      <td>3.5</td>\n",
       "      <td>0.5</td>\n",
       "      <td>52.5</td>\n",
       "      <td>37.0</td>\n",
       "      <td>856.0</td>\n",
       "      <td>1</td>\n",
       "    </tr>\n",
       "    <tr>\n",
       "      <th>1</th>\n",
       "      <td>0</td>\n",
       "      <td>0</td>\n",
       "      <td>0</td>\n",
       "      <td>0</td>\n",
       "      <td>0</td>\n",
       "      <td>0</td>\n",
       "      <td>1</td>\n",
       "      <td>1</td>\n",
       "      <td>0</td>\n",
       "      <td>0</td>\n",
       "      <td>...</td>\n",
       "      <td>433.0</td>\n",
       "      <td>6.5</td>\n",
       "      <td>0.87</td>\n",
       "      <td>1</td>\n",
       "      <td>1.8</td>\n",
       "      <td>0.4</td>\n",
       "      <td>52.5</td>\n",
       "      <td>37.0</td>\n",
       "      <td>856.0</td>\n",
       "      <td>1</td>\n",
       "    </tr>\n",
       "    <tr>\n",
       "      <th>2</th>\n",
       "      <td>1</td>\n",
       "      <td>0</td>\n",
       "      <td>1</td>\n",
       "      <td>1</td>\n",
       "      <td>0</td>\n",
       "      <td>1</td>\n",
       "      <td>0</td>\n",
       "      <td>1</td>\n",
       "      <td>0</td>\n",
       "      <td>1</td>\n",
       "      <td>...</td>\n",
       "      <td>109.0</td>\n",
       "      <td>7.0</td>\n",
       "      <td>2.10</td>\n",
       "      <td>5</td>\n",
       "      <td>13.0</td>\n",
       "      <td>0.1</td>\n",
       "      <td>28.0</td>\n",
       "      <td>6.0</td>\n",
       "      <td>16.0</td>\n",
       "      <td>1</td>\n",
       "    </tr>\n",
       "    <tr>\n",
       "      <th>3</th>\n",
       "      <td>1</td>\n",
       "      <td>1</td>\n",
       "      <td>1</td>\n",
       "      <td>0</td>\n",
       "      <td>0</td>\n",
       "      <td>0</td>\n",
       "      <td>0</td>\n",
       "      <td>1</td>\n",
       "      <td>0</td>\n",
       "      <td>1</td>\n",
       "      <td>...</td>\n",
       "      <td>174.0</td>\n",
       "      <td>8.1</td>\n",
       "      <td>1.11</td>\n",
       "      <td>2</td>\n",
       "      <td>15.7</td>\n",
       "      <td>0.2</td>\n",
       "      <td>52.5</td>\n",
       "      <td>37.0</td>\n",
       "      <td>856.0</td>\n",
       "      <td>0</td>\n",
       "    </tr>\n",
       "    <tr>\n",
       "      <th>4</th>\n",
       "      <td>1</td>\n",
       "      <td>1</td>\n",
       "      <td>1</td>\n",
       "      <td>1</td>\n",
       "      <td>0</td>\n",
       "      <td>1</td>\n",
       "      <td>0</td>\n",
       "      <td>1</td>\n",
       "      <td>0</td>\n",
       "      <td>1</td>\n",
       "      <td>...</td>\n",
       "      <td>109.0</td>\n",
       "      <td>6.9</td>\n",
       "      <td>1.80</td>\n",
       "      <td>1</td>\n",
       "      <td>9.0</td>\n",
       "      <td>0.1</td>\n",
       "      <td>59.0</td>\n",
       "      <td>15.0</td>\n",
       "      <td>22.0</td>\n",
       "      <td>1</td>\n",
       "    </tr>\n",
       "  </tbody>\n",
       "</table>\n",
       "<p>5 rows × 50 columns</p>\n",
       "</div>"
      ],
      "text/plain": [
       "   1.Gen  2.Sym  3.Alc  4.HepB  5.HepB  6.HepB  7.HepC  8.Cir  9.End  10.Smo  \\\n",
       "0      1      0      1       0       0       0       0      1      0       1   \n",
       "1      0      0      0       0       0       0       1      1      0       0   \n",
       "2      1      0      1       1       0       1       0      1      0       1   \n",
       "3      1      1      1       0       0       0       0      1      0       1   \n",
       "4      1      1      1       1       0       1       0      1      0       1   \n",
       "\n",
       "   ...  41.Alk  42.Prot  43.Crea  44.NNod  45.dnod  46.Bil  47.Iro  48.Oxy  \\\n",
       "0  ...   150.0      7.1     0.70        1      3.5     0.5    52.5    37.0   \n",
       "1  ...   433.0      6.5     0.87        1      1.8     0.4    52.5    37.0   \n",
       "2  ...   109.0      7.0     2.10        5     13.0     0.1    28.0     6.0   \n",
       "3  ...   174.0      8.1     1.11        2     15.7     0.2    52.5    37.0   \n",
       "4  ...   109.0      6.9     1.80        1      9.0     0.1    59.0    15.0   \n",
       "\n",
       "   49.Fer  Class  \n",
       "0   856.0      1  \n",
       "1   856.0      1  \n",
       "2    16.0      1  \n",
       "3   856.0      0  \n",
       "4    22.0      1  \n",
       "\n",
       "[5 rows x 50 columns]"
      ]
     },
     "execution_count": 16,
     "metadata": {},
     "output_type": "execute_result"
    }
   ],
   "source": [
    "# next, before we do the matrix, we need to convert everything into float\n",
    "for col in new_df.columns:\n",
    "    new_df[col] = pd.to_numeric(new_df[col], errors='coerce')\n",
    "new_df.head()"
   ]
  },
  {
   "cell_type": "code",
   "execution_count": 17,
   "metadata": {},
   "outputs": [
    {
     "data": {
      "text/plain": [
       "1    102\n",
       "0     63\n",
       "Name: Class, dtype: int64"
      ]
     },
     "execution_count": 17,
     "metadata": {},
     "output_type": "execute_result"
    }
   ],
   "source": [
    "new_df['Class'].value_counts()"
   ]
  },
  {
   "cell_type": "code",
   "execution_count": 18,
   "metadata": {},
   "outputs": [
    {
     "data": {
      "text/plain": [
       "0"
      ]
     },
     "execution_count": 18,
     "metadata": {},
     "output_type": "execute_result"
    }
   ],
   "source": [
    "hcc_data['Class'].isna().sum()"
   ]
  },
  {
   "cell_type": "markdown",
   "metadata": {},
   "source": [
    "# Taking A Second Look at the Data"
   ]
  },
  {
   "cell_type": "code",
   "execution_count": 19,
   "metadata": {},
   "outputs": [],
   "source": [
    "# before we do any timthing let's set a global random seed for our ML algorithms\n",
    "np.random.seed(33)"
   ]
  },
  {
   "cell_type": "raw",
   "metadata": {},
   "source": [
    "What we will do now is use a random forest on the entire training dataset to find the most informative features\n",
    "AFter we find the informative features in ranked order (based on cross-validation and high accuracy/precision/recall from the random forest on the test set, then we will use those top features in our GENERATIVE MODEL instead. Doing that, and using say the top 2-3 features will allow us to visualize how the data points are distributed and get a better sense of what the generative model is looking for in terms of feature values. "
   ]
  },
  {
   "cell_type": "code",
   "execution_count": 20,
   "metadata": {},
   "outputs": [],
   "source": [
    "from sklearn.model_selection import train_test_split"
   ]
  },
  {
   "cell_type": "code",
   "execution_count": 21,
   "metadata": {},
   "outputs": [],
   "source": [
    "X_train, X_test, y_train, y_test = train_test_split(new_df[new_df.columns[:-1]], new_df['Class'] , train_size=0.7, random_state=0)"
   ]
  },
  {
   "cell_type": "code",
   "execution_count": 22,
   "metadata": {},
   "outputs": [
    {
     "data": {
      "text/plain": [
       "((115, 49), (50, 49), (115,), (50,))"
      ]
     },
     "execution_count": 22,
     "metadata": {},
     "output_type": "execute_result"
    }
   ],
   "source": [
    "X_train.shape, X_test.shape, y_train.shape, y_test.shape"
   ]
  },
  {
   "cell_type": "code",
   "execution_count": 23,
   "metadata": {},
   "outputs": [
    {
     "data": {
      "text/plain": [
       "1    73\n",
       "0    42\n",
       "Name: Class, dtype: int64"
      ]
     },
     "execution_count": 23,
     "metadata": {},
     "output_type": "execute_result"
    }
   ],
   "source": [
    "y_train.value_counts()"
   ]
  },
  {
   "cell_type": "code",
   "execution_count": 24,
   "metadata": {},
   "outputs": [
    {
     "data": {
      "text/plain": [
       "0"
      ]
     },
     "execution_count": 24,
     "metadata": {},
     "output_type": "execute_result"
    }
   ],
   "source": [
    "y_train.isna().sum()"
   ]
  },
  {
   "cell_type": "code",
   "execution_count": 25,
   "metadata": {},
   "outputs": [],
   "source": [
    "from sklearn.ensemble import RandomForestClassifier"
   ]
  },
  {
   "cell_type": "code",
   "execution_count": 26,
   "metadata": {},
   "outputs": [
    {
     "data": {
      "image/png": "[encoded data removed]",
      "text/plain": [
       "<Figure size 432x288 with 1 Axes>"
      ]
     },
     "metadata": {
      "needs_background": "light"
     },
     "output_type": "display_data"
    }
   ],
   "source": [
    "# fit the random forest \n",
    "\n",
    "feature_names = [new_df.columns[i] for i in range(X_train.shape[1])]\n",
    "RF = RandomForestClassifier(random_state=0)\n",
    "RF.fit(X_train, y_train)\n",
    "\n",
    "\n",
    "# get the feature importance scores\n",
    "importances = RF.feature_importances_\n",
    "\n",
    "\n",
    "\n",
    "# graph the features \n",
    "forest_importances = pd.Series(importances, index=feature_names).sort_values(ascending=False)[:10]\n",
    "\n",
    "fig, ax = plt.subplots()\n",
    "forest_importances.plot.bar(ax=ax)\n",
    "ax.set_title(\"Feature importances using MDI\")\n",
    "ax.set_ylabel(\"Mean decrease in impurity\")\n",
    "fig.tight_layout()"
   ]
  },
  {
   "cell_type": "markdown",
   "metadata": {},
   "source": [
    "# Feature importance based on feature permutation"
   ]
  },
  {
   "cell_type": "code",
   "execution_count": 27,
   "metadata": {},
   "outputs": [
    {
     "data": {
      "image/png": "[encoded data removed]",
      "text/plain": [
       "<Figure size 432x288 with 1 Axes>"
      ]
     },
     "metadata": {
      "needs_background": "light"
     },
     "output_type": "display_data"
    }
   ],
   "source": [
    "from sklearn.inspection import permutation_importance\n",
    "\n",
    "RF = RandomForestClassifier(random_state=0)\n",
    "RF.fit(X_train, y_train) \n",
    "\n",
    "\n",
    "result = permutation_importance(\n",
    "    RF, X_test, y_test, n_repeats=10, random_state=42, n_jobs=2)\n",
    "\n",
    "\n",
    "\n",
    "forest_importances = pd.Series(importances, index=feature_names).sort_values(ascending=False)[:10]\n",
    "\n",
    "\n",
    "# time to graph\n",
    "fig, ax = plt.subplots()\n",
    "forest_importances.plot.bar( ax=ax)\n",
    "ax.set_title(\"Feature importances using permutation on full model\")\n",
    "ax.set_ylabel(\"Mean accuracy decrease\")\n",
    "fig.tight_layout()\n",
    "plt.show()"
   ]
  },
  {
   "cell_type": "code",
   "execution_count": 28,
   "metadata": {},
   "outputs": [],
   "source": [
    "# from these 2 analysis we have the top 3 features\n",
    "# we'll use 3 features because we can plot top 2 features in 2D and top 3 features in 3D\n",
    "# the top 3 features are Alkaline Phosphatase (U/L), Haemoglobin (g/dL), and Alpha-Fetoprotein (ng/dL)\n",
    "\n",
    "# we'll now use the generative model using top 2 features first, and then all 3 features"
   ]
  },
  {
   "cell_type": "markdown",
   "metadata": {},
   "source": [
    "# Part 3: A Generative Classifier\n",
    "\n",
    "\n",
    "We can do this data analysis a different way. Instead of creating a fully predictive model with logistic regression (or say, a neural network) what if –– we do a non-parametric approach instead?\n",
    "\n",
    "Let's take a look at the following equation, which states Bayes' Rule of Inference, but for two classification hypotheses we want to test:"
   ]
  },
  {
   "cell_type": "markdown",
   "metadata": {},
   "source": [
    "$$\\frac{P(H_1|Data)}{P(H_2|Data)} = \\frac{f(Data|H_1)}{f(Data|H_2)}\\frac{P(H_1)}{P(H_2)}$$"
   ]
  },
  {
   "cell_type": "markdown",
   "metadata": {},
   "source": [
    "This equation basically says, that the odds of Hypothesis 1 being true after seeing the new data point, D, over the odds of Hypothesis 2 being true, is the ratio of how likely D fits hypothesis 1 over hypothesis 2 (symbolized by \"f\"), times the prior odds we believe that hypothesis 1 is right over hypothesis 2.\n",
    "\n",
    "The part we call \"f\" is called the *likelihood* of the data fitting the hypothesis H1 or H2. It's usually difficult to calculate this, and we use the lowercase \"f\" instead of probability \"P\" because there are so many data points in our set, we consider the set *continuous* instead, and use \"f\". You can think of $f(x)$ as a *density* –– it gives us a map of how likely certain data points would be *given* that either hypothesis 1 or 2 is correct."
   ]
  },
  {
   "cell_type": "markdown",
   "metadata": {},
   "source": [
    "The difficult part is constructing $f(x)$. This would usually be part of \"unsupervised learning\", where the computer is traianed to find patterns in data without any labels. You might of heard, for example, K-Means – which clusters data into K different blobs based on the \"centroid\" of each cluster. \n",
    "\n",
    "Gaussian Mixture Modeling (GMM) is a general version of K-Means, and while it can be used for clustering, it has waaaay more power than that. Because GMM is a model, a *probabilistic model*, it basically tells us a whole bunch of info about how dense the data points are, and how probable is certain parts of the data from other parts. and one of the amazing things about GMM is that its a *generative model*, which means you can generate *new* samples of the data from your model pretty easily by just calling the .sample method in Sci-kit Learn. This would be pretty hard to do with K-means. "
   ]
  },
  {
   "cell_type": "code",
   "execution_count": 29,
   "metadata": {},
   "outputs": [
    {
     "data": {
      "text/plain": [
       "Index([' 31.Alp', ' 32.Hae', '41.Alk', '47.Iro', '36.Alb', '46.Bil', '35.Plat',\n",
       "       '45.dnod', ' 30.IntNorRat', '27.Sta'],\n",
       "      dtype='object')"
      ]
     },
     "execution_count": 29,
     "metadata": {},
     "output_type": "execute_result"
    }
   ],
   "source": [
    "forest_importances.index"
   ]
  },
  {
   "cell_type": "code",
   "execution_count": 84,
   "metadata": {},
   "outputs": [
    {
     "data": {
      "text/html": [
       "<div>\n",
       "<style scoped>\n",
       "    .dataframe tbody tr th:only-of-type {\n",
       "        vertical-align: middle;\n",
       "    }\n",
       "\n",
       "    .dataframe tbody tr th {\n",
       "        vertical-align: top;\n",
       "    }\n",
       "\n",
       "    .dataframe thead th {\n",
       "        text-align: right;\n",
       "    }\n",
       "</style>\n",
       "<table border=\"1\" class=\"dataframe\">\n",
       "  <thead>\n",
       "    <tr style=\"text-align: right;\">\n",
       "      <th></th>\n",
       "      <th>31.Alp</th>\n",
       "      <th>32.Hae</th>\n",
       "      <th>41.Alk</th>\n",
       "    </tr>\n",
       "  </thead>\n",
       "  <tbody>\n",
       "    <tr>\n",
       "      <th>0</th>\n",
       "      <td>95.0</td>\n",
       "      <td>13.7</td>\n",
       "      <td>150.0</td>\n",
       "    </tr>\n",
       "    <tr>\n",
       "      <th>1</th>\n",
       "      <td>3.1</td>\n",
       "      <td>10.8</td>\n",
       "      <td>433.0</td>\n",
       "    </tr>\n",
       "    <tr>\n",
       "      <th>2</th>\n",
       "      <td>5.8</td>\n",
       "      <td>8.9</td>\n",
       "      <td>109.0</td>\n",
       "    </tr>\n",
       "    <tr>\n",
       "      <th>3</th>\n",
       "      <td>2440.0</td>\n",
       "      <td>13.4</td>\n",
       "      <td>174.0</td>\n",
       "    </tr>\n",
       "    <tr>\n",
       "      <th>4</th>\n",
       "      <td>49.0</td>\n",
       "      <td>14.3</td>\n",
       "      <td>109.0</td>\n",
       "    </tr>\n",
       "    <tr>\n",
       "      <th>...</th>\n",
       "      <td>...</td>\n",
       "      <td>...</td>\n",
       "      <td>...</td>\n",
       "    </tr>\n",
       "    <tr>\n",
       "      <th>160</th>\n",
       "      <td>3.9</td>\n",
       "      <td>15.4</td>\n",
       "      <td>109.0</td>\n",
       "    </tr>\n",
       "    <tr>\n",
       "      <th>161</th>\n",
       "      <td>4887.0</td>\n",
       "      <td>12.1</td>\n",
       "      <td>280.0</td>\n",
       "    </tr>\n",
       "    <tr>\n",
       "      <th>162</th>\n",
       "      <td>75.0</td>\n",
       "      <td>13.3</td>\n",
       "      <td>181.0</td>\n",
       "    </tr>\n",
       "    <tr>\n",
       "      <th>163</th>\n",
       "      <td>94964.0</td>\n",
       "      <td>15.6</td>\n",
       "      <td>170.0</td>\n",
       "    </tr>\n",
       "    <tr>\n",
       "      <th>164</th>\n",
       "      <td>44340.0</td>\n",
       "      <td>12.7</td>\n",
       "      <td>462.0</td>\n",
       "    </tr>\n",
       "  </tbody>\n",
       "</table>\n",
       "<p>165 rows × 3 columns</p>\n",
       "</div>"
      ],
      "text/plain": [
       "      31.Alp   32.Hae  41.Alk\n",
       "0       95.0     13.7   150.0\n",
       "1        3.1     10.8   433.0\n",
       "2        5.8      8.9   109.0\n",
       "3     2440.0     13.4   174.0\n",
       "4       49.0     14.3   109.0\n",
       "..       ...      ...     ...\n",
       "160      3.9     15.4   109.0\n",
       "161   4887.0     12.1   280.0\n",
       "162     75.0     13.3   181.0\n",
       "163  94964.0     15.6   170.0\n",
       "164  44340.0     12.7   462.0\n",
       "\n",
       "[165 rows x 3 columns]"
      ]
     },
     "execution_count": 84,
     "metadata": {},
     "output_type": "execute_result"
    }
   ],
   "source": [
    "new_df[[' 31.Alp', ' 32.Hae', '41.Alk']]"
   ]
  },
  {
   "cell_type": "code",
   "execution_count": 30,
   "metadata": {},
   "outputs": [],
   "source": [
    "# next we are going to separate the transformed dataset into either life (1) or death (0)\n",
    "# class labels\n",
    "# first we will do generative modeling with TOP 2 FEATURES, and then with all TOP 3 FEATURES\n",
    "\n",
    "top_2_features = forest_importances.index[:2]\n",
    "top_3_features = forest_importances.index[:3]\n",
    "\n",
    "short_df_2feat = pd.DataFrame(X_train, columns=top_2_features)\n",
    "short_df_2feat['Class'] = y_train\n",
    "\n",
    "short_df_3feat = pd.DataFrame(X_train, columns=top_3_features)\n",
    "short_df_3feat['Class'] = y_train"
   ]
  },
  {
   "cell_type": "code",
   "execution_count": 31,
   "metadata": {},
   "outputs": [
    {
     "data": {
      "text/html": [
       "<div>\n",
       "<style scoped>\n",
       "    .dataframe tbody tr th:only-of-type {\n",
       "        vertical-align: middle;\n",
       "    }\n",
       "\n",
       "    .dataframe tbody tr th {\n",
       "        vertical-align: top;\n",
       "    }\n",
       "\n",
       "    .dataframe thead th {\n",
       "        text-align: right;\n",
       "    }\n",
       "</style>\n",
       "<table border=\"1\" class=\"dataframe\">\n",
       "  <thead>\n",
       "    <tr style=\"text-align: right;\">\n",
       "      <th></th>\n",
       "      <th>31.Alp</th>\n",
       "      <th>32.Hae</th>\n",
       "      <th>Class</th>\n",
       "    </tr>\n",
       "  </thead>\n",
       "  <tbody>\n",
       "    <tr>\n",
       "      <th>106</th>\n",
       "      <td>32.0</td>\n",
       "      <td>14.0</td>\n",
       "      <td>1</td>\n",
       "    </tr>\n",
       "    <tr>\n",
       "      <th>27</th>\n",
       "      <td>5.9</td>\n",
       "      <td>15.5</td>\n",
       "      <td>1</td>\n",
       "    </tr>\n",
       "    <tr>\n",
       "      <th>94</th>\n",
       "      <td>48.0</td>\n",
       "      <td>12.6</td>\n",
       "      <td>1</td>\n",
       "    </tr>\n",
       "    <tr>\n",
       "      <th>125</th>\n",
       "      <td>421500.0</td>\n",
       "      <td>14.3</td>\n",
       "      <td>0</td>\n",
       "    </tr>\n",
       "    <tr>\n",
       "      <th>90</th>\n",
       "      <td>123.0</td>\n",
       "      <td>10.1</td>\n",
       "      <td>0</td>\n",
       "    </tr>\n",
       "  </tbody>\n",
       "</table>\n",
       "</div>"
      ],
      "text/plain": [
       "       31.Alp   32.Hae  Class\n",
       "106      32.0     14.0      1\n",
       "27        5.9     15.5      1\n",
       "94       48.0     12.6      1\n",
       "125  421500.0     14.3      0\n",
       "90      123.0     10.1      0"
      ]
     },
     "execution_count": 31,
     "metadata": {},
     "output_type": "execute_result"
    }
   ],
   "source": [
    "short_df_2feat.head() "
   ]
  },
  {
   "cell_type": "code",
   "execution_count": 32,
   "metadata": {},
   "outputs": [
    {
     "data": {
      "text/html": [
       "<div>\n",
       "<style scoped>\n",
       "    .dataframe tbody tr th:only-of-type {\n",
       "        vertical-align: middle;\n",
       "    }\n",
       "\n",
       "    .dataframe tbody tr th {\n",
       "        vertical-align: top;\n",
       "    }\n",
       "\n",
       "    .dataframe thead th {\n",
       "        text-align: right;\n",
       "    }\n",
       "</style>\n",
       "<table border=\"1\" class=\"dataframe\">\n",
       "  <thead>\n",
       "    <tr style=\"text-align: right;\">\n",
       "      <th></th>\n",
       "      <th>31.Alp</th>\n",
       "      <th>32.Hae</th>\n",
       "      <th>41.Alk</th>\n",
       "      <th>Class</th>\n",
       "    </tr>\n",
       "  </thead>\n",
       "  <tbody>\n",
       "    <tr>\n",
       "      <th>106</th>\n",
       "      <td>32.0</td>\n",
       "      <td>14.0</td>\n",
       "      <td>174.0</td>\n",
       "      <td>1</td>\n",
       "    </tr>\n",
       "    <tr>\n",
       "      <th>27</th>\n",
       "      <td>5.9</td>\n",
       "      <td>15.5</td>\n",
       "      <td>111.0</td>\n",
       "      <td>1</td>\n",
       "    </tr>\n",
       "    <tr>\n",
       "      <th>94</th>\n",
       "      <td>48.0</td>\n",
       "      <td>12.6</td>\n",
       "      <td>91.0</td>\n",
       "      <td>1</td>\n",
       "    </tr>\n",
       "    <tr>\n",
       "      <th>125</th>\n",
       "      <td>421500.0</td>\n",
       "      <td>14.3</td>\n",
       "      <td>217.0</td>\n",
       "      <td>0</td>\n",
       "    </tr>\n",
       "    <tr>\n",
       "      <th>90</th>\n",
       "      <td>123.0</td>\n",
       "      <td>10.1</td>\n",
       "      <td>177.0</td>\n",
       "      <td>0</td>\n",
       "    </tr>\n",
       "  </tbody>\n",
       "</table>\n",
       "</div>"
      ],
      "text/plain": [
       "       31.Alp   32.Hae  41.Alk  Class\n",
       "106      32.0     14.0   174.0      1\n",
       "27        5.9     15.5   111.0      1\n",
       "94       48.0     12.6    91.0      1\n",
       "125  421500.0     14.3   217.0      0\n",
       "90      123.0     10.1   177.0      0"
      ]
     },
     "execution_count": 32,
     "metadata": {},
     "output_type": "execute_result"
    }
   ],
   "source": [
    "short_df_3feat.head() "
   ]
  },
  {
   "cell_type": "markdown",
   "metadata": {},
   "source": [
    "## Generative Model with Top 2 features "
   ]
  },
  {
   "cell_type": "code",
   "execution_count": 33,
   "metadata": {},
   "outputs": [
    {
     "data": {
      "text/plain": [
       "((73, 3), (42, 3))"
      ]
     },
     "execution_count": 33,
     "metadata": {},
     "output_type": "execute_result"
    }
   ],
   "source": [
    "short_df_2life = short_df_2feat[short_df_2feat['Class']==1]\n",
    "short_df_2death = short_df_2feat[short_df_2feat['Class']==0]\n",
    "\n",
    "short_df_2life.shape, short_df_2death.shape"
   ]
  },
  {
   "cell_type": "code",
   "execution_count": 34,
   "metadata": {
    "scrolled": false
   },
   "outputs": [
    {
     "data": {
      "text/html": [
       "<div>\n",
       "<style scoped>\n",
       "    .dataframe tbody tr th:only-of-type {\n",
       "        vertical-align: middle;\n",
       "    }\n",
       "\n",
       "    .dataframe tbody tr th {\n",
       "        vertical-align: top;\n",
       "    }\n",
       "\n",
       "    .dataframe thead th {\n",
       "        text-align: right;\n",
       "    }\n",
       "</style>\n",
       "<table border=\"1\" class=\"dataframe\">\n",
       "  <thead>\n",
       "    <tr style=\"text-align: right;\">\n",
       "      <th></th>\n",
       "      <th>31.Alp</th>\n",
       "      <th>32.Hae</th>\n",
       "      <th>Class</th>\n",
       "    </tr>\n",
       "  </thead>\n",
       "  <tbody>\n",
       "    <tr>\n",
       "      <th>106</th>\n",
       "      <td>32.0</td>\n",
       "      <td>14.0</td>\n",
       "      <td>1</td>\n",
       "    </tr>\n",
       "    <tr>\n",
       "      <th>27</th>\n",
       "      <td>5.9</td>\n",
       "      <td>15.5</td>\n",
       "      <td>1</td>\n",
       "    </tr>\n",
       "    <tr>\n",
       "      <th>94</th>\n",
       "      <td>48.0</td>\n",
       "      <td>12.6</td>\n",
       "      <td>1</td>\n",
       "    </tr>\n",
       "    <tr>\n",
       "      <th>60</th>\n",
       "      <td>608.0</td>\n",
       "      <td>12.6</td>\n",
       "      <td>1</td>\n",
       "    </tr>\n",
       "    <tr>\n",
       "      <th>110</th>\n",
       "      <td>114.0</td>\n",
       "      <td>14.9</td>\n",
       "      <td>1</td>\n",
       "    </tr>\n",
       "  </tbody>\n",
       "</table>\n",
       "</div>"
      ],
      "text/plain": [
       "      31.Alp   32.Hae  Class\n",
       "106     32.0     14.0      1\n",
       "27       5.9     15.5      1\n",
       "94      48.0     12.6      1\n",
       "60     608.0     12.6      1\n",
       "110    114.0     14.9      1"
      ]
     },
     "execution_count": 34,
     "metadata": {},
     "output_type": "execute_result"
    }
   ],
   "source": [
    "short_df_2life.head()"
   ]
  },
  {
   "cell_type": "code",
   "execution_count": 35,
   "metadata": {},
   "outputs": [
    {
     "data": {
      "text/plain": [
       "count       73.000000\n",
       "mean      1055.427945\n",
       "std       4516.002322\n",
       "min          1.700000\n",
       "25%          4.700000\n",
       "50%          8.800000\n",
       "75%         60.000000\n",
       "max      33502.000000\n",
       "Name:  31.Alp, dtype: float64"
      ]
     },
     "execution_count": 35,
     "metadata": {},
     "output_type": "execute_result"
    }
   ],
   "source": [
    "short_df_2life[' 31.Alp'].describe()"
   ]
  },
  {
   "cell_type": "code",
   "execution_count": 73,
   "metadata": {},
   "outputs": [
    {
     "data": {
      "text/plain": [
       "Index([' 31.Alp', ' 32.Hae', 'Class'], dtype='object')"
      ]
     },
     "execution_count": 73,
     "metadata": {},
     "output_type": "execute_result"
    }
   ],
   "source": [
    "short_df_2life.columns"
   ]
  },
  {
   "cell_type": "markdown",
   "metadata": {},
   "source": [
    "Now, we are going to set up the Gaussian Mixture generative model. First we need to import it, and make an object instance of the class. And for the generative model, we are *not* going to touch the testing data; we'll just be dealing with the training set.\n",
    "\n",
    "A question you might ask is: how many components do we need to use in the model? It's a great question! And the answer is often: we don't know beforehand. So instead of running 1 generative model, we are going to run 15 of them each model using from 1 componenent to N components. Once we do this, we can use a number called the *Akaike Information Criterion (AIC)* (don't ask me about it!) to determine how many clusters we should use. A good way to do this is called the \"elbow method\", where we look at the plotted graph of cluster number vs. AIC (it should look like a bent elbow where the bend is at the bottom), and we pick the cluster number closest to the bend.\n"
   ]
  },
  {
   "cell_type": "code",
   "execution_count": 37,
   "metadata": {},
   "outputs": [
    {
     "data": {
      "text/plain": [
       "((73, 2), (42, 2))"
      ]
     },
     "execution_count": 37,
     "metadata": {},
     "output_type": "execute_result"
    }
   ],
   "source": [
    "X_train_2life = short_df_2life.iloc[:, :-1]\n",
    "X_train_2death = short_df_2death.iloc[:, :-1]\n",
    "X_train_2life.shape, X_train_2death.shape"
   ]
  },
  {
   "cell_type": "markdown",
   "metadata": {},
   "source": [
    "Now in order to apply density estimation as a predictive tool, ket's go back to the Bayesian inference hypothesis equation above. Because we balanced the class labels in our dataset, the quotient $\\frac{P(H_1)}{P(H_2)}$ is 1 because the ratio of life-labels to death-labels is the same. So we only have to worry about the likelihood ratio. \n",
    "\n",
    "Dividing numbers in Python can give weird errors, so instead, we'll work with the *logarithm* of the likelihood ratio, written as:\n",
    "\n",
    "$$log(\\frac{P(Data|H_1)}{P(Data|H_2)})$$\n",
    "\n",
    "which can be written as:\n",
    "\n",
    "$$delta = log(P(Data|H_1) - log(P(Data|H_2))$$\n",
    "\n",
    "The numerator we'll call *life_log_prob* and the denominator as *death_log_prob*.\n",
    "\n",
    "Our key calculation is this: in the quotient of likelihoods, if the quotient is > 1, then the likelihood of the test data point under hypothesis 1 (class label=1) is higher than class label 0, so we classify it as \"survival\". Otherwise, it's classified as \"death\". When we take the logarithm of the likelihood ratio, what this classification rule translates to is that we classify the new data point as \"survival\" if the difference, $delta$ > 0, and \"death\" if $delta$ < 0."
   ]
  },
  {
   "cell_type": "code",
   "execution_count": 38,
   "metadata": {},
   "outputs": [
    {
     "data": {
      "application/vnd.jupyter.widget-view+json": {
       "model_id": "e580b9d082e649abaef24e882cc0f014",
       "version_major": 2,
       "version_minor": 0
      },
      "text/plain": [
       "HBox(children=(IntProgress(value=0, description='Fitting life-data models', max=15, style=ProgressStyle(descri…"
      ]
     },
     "metadata": {},
     "output_type": "display_data"
    },
    {
     "name": "stdout",
     "output_type": "stream",
     "text": [
      "\n"
     ]
    },
    {
     "data": {
      "application/vnd.jupyter.widget-view+json": {
       "model_id": "a2734b7b15e74949986e3407bd8b03b0",
       "version_major": 2,
       "version_minor": 0
      },
      "text/plain": [
       "HBox(children=(IntProgress(value=0, description='Fitting death-data models', max=15, style=ProgressStyle(descr…"
      ]
     },
     "metadata": {},
     "output_type": "display_data"
    },
    {
     "name": "stdout",
     "output_type": "stream",
     "text": [
      "\n"
     ]
    },
    {
     "data": {
      "image/png": "[encoded data removed]",
      "text/plain": [
       "<Figure size 432x288 with 1 Axes>"
      ]
     },
     "metadata": {
      "needs_background": "light"
     },
     "output_type": "display_data"
    }
   ],
   "source": [
    "# we could also do kernel density estimation\n",
    "# we're gonna be using bayesian search and cross-validation to find the BEST bandwidth value\n",
    "# for each KDE estimate of the training data (based on class label)\n",
    "# we'll be using K-fold cross validation\n",
    "\n",
    "\n",
    "from sklearn.mixture import GaussianMixture\n",
    "\n",
    "components = list(range(1, 16))\n",
    "life_mixture_models = []\n",
    "death_mixture_models = []\n",
    "\n",
    "\n",
    "\n",
    "# patients who lived \n",
    "\n",
    "for i in tqdm(components, desc=\"Fitting life-data models\"):\n",
    "    life_mixture_models.append(GaussianMixture(i, random_state=0).fit(X_train_2life))\n",
    "    \n",
    "life_scores = [model.bic(X_train_2life) for model in life_mixture_models]\n",
    "\n",
    "\n",
    "# now patients who died\n",
    "\n",
    "for i in tqdm(components, desc=\"Fitting death-data models\"):\n",
    "    death_mixture_models.append(GaussianMixture(i, random_state=0).fit(X_train_2death))\n",
    "    \n",
    "death_scores = [model.bic(X_train_2death) for model in death_mixture_models]\n",
    "\n",
    "\n",
    "fig = plt.figure()\n",
    "\n",
    "# life plot \n",
    "plt.title('Elbow Plot')\n",
    "plt.plot(components, life_scores, '-o', label='Lived Patients')\n",
    "plt.plot(components, death_scores, '-o', label='Died Patients')\n",
    "plt.xlabel('# of Components')\n",
    "plt.ylabel('BIC Score')\n",
    "plt.legend(loc='upper right')\n",
    "plt.show()\n",
    "\n"
   ]
  },
  {
   "cell_type": "code",
   "execution_count": 39,
   "metadata": {},
   "outputs": [],
   "source": [
    "# it seems like here, for modeling the data-generating process, the lived patients fit with 6 clusters,\n",
    "# while for the died patients, they fit with 4 clusters at the elbow point\n",
    "\n",
    "\n",
    "# now let us graph in 2D, a heatmap (perhaps with seaborn) for the lived-patients and died-patients data distribution\n",
    "# / data generating process\n",
    "\n",
    "life_model_2feature = GaussianMixture(n_components=6, random_state=0).fit(X_train_2life)\n",
    "death_model_2feature = GaussianMixture(n_components=4, random_state=0).fit(X_train_2death)"
   ]
  },
  {
   "cell_type": "code",
   "execution_count": 40,
   "metadata": {},
   "outputs": [],
   "source": [
    "# now, to use seaborn heatmap, we need to generate some data with the gaussian mixture first \n",
    "\n",
    "new_life_samples = life_model_2feature.sample(n_samples=100)\n",
    "new_death_samples = death_model_2feature.sample(n_samples=100)\n",
    "\n",
    "new_life_df = pd.DataFrame({'31.Alp': new_life_samples[0][:,0], '32.Hae': new_life_samples[0][:,1]})\n",
    "new_death_df = pd.DataFrame({'31.Alp': new_death_samples[0][:,0], '32.Hae': new_death_samples[0][:,1]})\n"
   ]
  },
  {
   "cell_type": "code",
   "execution_count": 67,
   "metadata": {},
   "outputs": [
    {
     "data": {
      "text/html": [
       "<div>\n",
       "<style scoped>\n",
       "    .dataframe tbody tr th:only-of-type {\n",
       "        vertical-align: middle;\n",
       "    }\n",
       "\n",
       "    .dataframe tbody tr th {\n",
       "        vertical-align: top;\n",
       "    }\n",
       "\n",
       "    .dataframe thead th {\n",
       "        text-align: right;\n",
       "    }\n",
       "</style>\n",
       "<table border=\"1\" class=\"dataframe\">\n",
       "  <thead>\n",
       "    <tr style=\"text-align: right;\">\n",
       "      <th></th>\n",
       "      <th>31.Alp</th>\n",
       "      <th>32.Hae</th>\n",
       "    </tr>\n",
       "  </thead>\n",
       "  <tbody>\n",
       "    <tr>\n",
       "      <th>0</th>\n",
       "      <td>21.676167</td>\n",
       "      <td>17.776978</td>\n",
       "    </tr>\n",
       "    <tr>\n",
       "      <th>1</th>\n",
       "      <td>-4.413940</td>\n",
       "      <td>11.933992</td>\n",
       "    </tr>\n",
       "    <tr>\n",
       "      <th>2</th>\n",
       "      <td>-20.372057</td>\n",
       "      <td>15.020083</td>\n",
       "    </tr>\n",
       "    <tr>\n",
       "      <th>3</th>\n",
       "      <td>5.251153</td>\n",
       "      <td>14.459027</td>\n",
       "    </tr>\n",
       "    <tr>\n",
       "      <th>4</th>\n",
       "      <td>13.487314</td>\n",
       "      <td>16.409858</td>\n",
       "    </tr>\n",
       "    <tr>\n",
       "      <th>...</th>\n",
       "      <td>...</td>\n",
       "      <td>...</td>\n",
       "    </tr>\n",
       "    <tr>\n",
       "      <th>95</th>\n",
       "      <td>243.205774</td>\n",
       "      <td>12.329051</td>\n",
       "    </tr>\n",
       "    <tr>\n",
       "      <th>96</th>\n",
       "      <td>-154.318020</td>\n",
       "      <td>11.471967</td>\n",
       "    </tr>\n",
       "    <tr>\n",
       "      <th>97</th>\n",
       "      <td>583.388483</td>\n",
       "      <td>11.979833</td>\n",
       "    </tr>\n",
       "    <tr>\n",
       "      <th>98</th>\n",
       "      <td>1456.185541</td>\n",
       "      <td>9.797363</td>\n",
       "    </tr>\n",
       "    <tr>\n",
       "      <th>99</th>\n",
       "      <td>248.242430</td>\n",
       "      <td>13.664544</td>\n",
       "    </tr>\n",
       "  </tbody>\n",
       "</table>\n",
       "<p>100 rows × 2 columns</p>\n",
       "</div>"
      ],
      "text/plain": [
       "         31.Alp     32.Hae\n",
       "0     21.676167  17.776978\n",
       "1     -4.413940  11.933992\n",
       "2    -20.372057  15.020083\n",
       "3      5.251153  14.459027\n",
       "4     13.487314  16.409858\n",
       "..          ...        ...\n",
       "95   243.205774  12.329051\n",
       "96  -154.318020  11.471967\n",
       "97   583.388483  11.979833\n",
       "98  1456.185541   9.797363\n",
       "99   248.242430  13.664544\n",
       "\n",
       "[100 rows x 2 columns]"
      ]
     },
     "execution_count": 67,
     "metadata": {},
     "output_type": "execute_result"
    }
   ],
   "source": [
    "new_life_df\n"
   ]
  },
  {
   "cell_type": "code",
   "execution_count": 124,
   "metadata": {},
   "outputs": [
    {
     "data": {
      "image/png": "[encoded data removed]",
      "text/plain": [
       "<Figure size 432x288 with 1 Axes>"
      ]
     },
     "metadata": {
      "needs_background": "light"
     },
     "output_type": "display_data"
    }
   ],
   "source": [
    "sns.kdeplot(new_life_df['31.Alp'], new_life_df['32.Hae'], shade=True, \n",
    "                 shade_lowest=False, color='blue', cmap='Blues')\n",
    "plt.title('Model for patients who survived')\n",
    "plt.xlabel('Alpha-Fetoprotein (ng/dL)')\n",
    "plt.ylabel('Haemoglobin (g/dL)')\n",
    "\n",
    "plt.show()"
   ]
  },
  {
   "cell_type": "code",
   "execution_count": 125,
   "metadata": {},
   "outputs": [
    {
     "data": {
      "image/png": "[encoded data removed]",
      "text/plain": [
       "<Figure size 432x288 with 1 Axes>"
      ]
     },
     "metadata": {
      "needs_background": "light"
     },
     "output_type": "display_data"
    }
   ],
   "source": [
    "sns.kdeplot(new_death_df['31.Alp'], new_death_df['32.Hae'], shade=True, \n",
    "                 shade_lowest=False, color='red', cmap='Reds')\n",
    "\n",
    "plt.title('Model of patients who died')\n",
    "plt.xlabel('Alpha-Fetoprotein (ng/dL)')\n",
    "plt.ylabel('Haemoglobin (g/dL)')\n",
    "            \n",
    "plt.show()"
   ]
  },
  {
   "cell_type": "code",
   "execution_count": null,
   "metadata": {},
   "outputs": [],
   "source": []
  },
  {
   "cell_type": "code",
   "execution_count": 129,
   "metadata": {},
   "outputs": [
    {
     "data": {
      "image/png": "[encoded data removed]",
      "text/plain": [
       "<Figure size 432x288 with 1 Axes>"
      ]
     },
     "metadata": {
      "needs_background": "light"
     },
     "output_type": "display_data"
    }
   ],
   "source": [
    "import matplotlib.patches as  mpatches\n",
    "\n",
    "\n",
    "\n",
    "sns.kdeplot(new_life_df['31.Alp'], new_life_df['32.Hae'], shade=True, \n",
    "                 shade_lowest=False, color='blue', cmap='Blues')\n",
    "\n",
    "sns.kdeplot(new_death_df['31.Alp'], new_death_df['32.Hae'], shade=True, \n",
    "                 shade_lowest=False, color='red', cmap='Reds')\n",
    "\n",
    "\n",
    "\n",
    "\n",
    "handles = [mpatches.Patch(facecolor=plt.cm.Reds(100), label=\"Died\"),\n",
    "           mpatches.Patch(facecolor=plt.cm.Blues(100), label=\"Survived\")]\n",
    "\n",
    "\n",
    "plt.title('Model of patients')\n",
    "plt.xlabel('Alpha-Fetoprotein (ng/dL)')\n",
    "plt.ylabel('Haemoglobin (g/dL)')\n",
    "plt.legend(handles=handles)\n",
    "plt.show()\n",
    "\n",
    "\n",
    "\n"
   ]
  },
  {
   "cell_type": "code",
   "execution_count": null,
   "metadata": {},
   "outputs": [],
   "source": []
  },
  {
   "cell_type": "code",
   "execution_count": null,
   "metadata": {},
   "outputs": [],
   "source": []
  },
  {
   "cell_type": "code",
   "execution_count": null,
   "metadata": {},
   "outputs": [],
   "source": []
  },
  {
   "cell_type": "code",
   "execution_count": null,
   "metadata": {},
   "outputs": [],
   "source": []
  },
  {
   "cell_type": "code",
   "execution_count": 126,
   "metadata": {},
   "outputs": [
    {
     "data": {
      "image/png": "[encoded data removed]",
      "text/plain": [
       "<Figure size 432x288 with 1 Axes>"
      ]
     },
     "metadata": {
      "needs_background": "light"
     },
     "output_type": "display_data"
    }
   ],
   "source": [
    "sns.kdeplot(short_df_2life[' 31.Alp'], short_df_2life[' 32.Hae'],\n",
    "           shade=True, shade_lowest=False, color='blue', cmap='Blues')\n",
    "\n",
    "plt.title(\"Actual Distribution of Patients who Survived\")\n",
    "plt.show()"
   ]
  },
  {
   "cell_type": "code",
   "execution_count": 127,
   "metadata": {
    "scrolled": true
   },
   "outputs": [
    {
     "data": {
      "image/png": "[encoded data removed]",
      "text/plain": [
       "<Figure size 432x288 with 1 Axes>"
      ]
     },
     "metadata": {
      "needs_background": "light"
     },
     "output_type": "display_data"
    }
   ],
   "source": [
    "sns.kdeplot(short_df_2death[' 31.Alp'], short_df_2death[' 32.Hae'],\n",
    "           shade=True, shade_lowest=False, color='red', cmap='Reds')\n",
    "\n",
    "plt.title(\"Actual Distribution of Patients who Died\")\n",
    "plt.show()"
   ]
  },
  {
   "cell_type": "code",
   "execution_count": 91,
   "metadata": {},
   "outputs": [
    {
     "data": {
      "text/plain": [
       "((50, 2), (50, 3))"
      ]
     },
     "execution_count": 91,
     "metadata": {},
     "output_type": "execute_result"
    }
   ],
   "source": [
    "# now let us use our models to predict on test data!\n",
    "\n",
    "X_test.shape\n",
    "short_X_test_2feat = pd.DataFrame(X_test, columns=top_2_features)\n",
    "short_X_test_3feat = pd.DataFrame(X_test, columns=top_3_features)\n",
    "\n",
    "short_X_test_2feat.shape, short_X_test_3feat.shape"
   ]
  },
  {
   "cell_type": "code",
   "execution_count": 92,
   "metadata": {},
   "outputs": [
    {
     "data": {
      "text/html": [
       "<div>\n",
       "<style scoped>\n",
       "    .dataframe tbody tr th:only-of-type {\n",
       "        vertical-align: middle;\n",
       "    }\n",
       "\n",
       "    .dataframe tbody tr th {\n",
       "        vertical-align: top;\n",
       "    }\n",
       "\n",
       "    .dataframe thead th {\n",
       "        text-align: right;\n",
       "    }\n",
       "</style>\n",
       "<table border=\"1\" class=\"dataframe\">\n",
       "  <thead>\n",
       "    <tr style=\"text-align: right;\">\n",
       "      <th></th>\n",
       "      <th>31.Alp</th>\n",
       "      <th>32.Hae</th>\n",
       "    </tr>\n",
       "  </thead>\n",
       "  <tbody>\n",
       "    <tr>\n",
       "      <th>45</th>\n",
       "      <td>2.8</td>\n",
       "      <td>16.6</td>\n",
       "    </tr>\n",
       "    <tr>\n",
       "      <th>51</th>\n",
       "      <td>41470.0</td>\n",
       "      <td>12.6</td>\n",
       "    </tr>\n",
       "    <tr>\n",
       "      <th>108</th>\n",
       "      <td>173.0</td>\n",
       "      <td>11.3</td>\n",
       "    </tr>\n",
       "    <tr>\n",
       "      <th>7</th>\n",
       "      <td>9860.0</td>\n",
       "      <td>10.8</td>\n",
       "    </tr>\n",
       "    <tr>\n",
       "      <th>73</th>\n",
       "      <td>20.0</td>\n",
       "      <td>13.0</td>\n",
       "    </tr>\n",
       "  </tbody>\n",
       "</table>\n",
       "</div>"
      ],
      "text/plain": [
       "      31.Alp   32.Hae\n",
       "45       2.8     16.6\n",
       "51   41470.0     12.6\n",
       "108    173.0     11.3\n",
       "7     9860.0     10.8\n",
       "73      20.0     13.0"
      ]
     },
     "execution_count": 92,
     "metadata": {},
     "output_type": "execute_result"
    }
   ],
   "source": [
    "short_X_test_2feat.head()"
   ]
  },
  {
   "cell_type": "code",
   "execution_count": 199,
   "metadata": {},
   "outputs": [],
   "source": [
    "# we'll get the life-logliklihood MINUS the death-loglikelihood for the short X_test data (using score_samples)\n",
    "# on all 50 samples from X_test. Then we will exponential the log difference to get the Bayes factor\n",
    "# finally we multiply the prior odds by the bayes factor to get posterior odds, to make a decision\n",
    "\n",
    "# bcause 1 = predicting Patient is healthy, and 0 = predicting patient has cancer, we do NOT wanna lie to the patient\n",
    "# and predict 1 for them, when it's really 0 (cancer). So we wanna penalize false negatives\n",
    "\n",
    "# lets say false negatives are 5 times as worse as false positives in our opinion. Then, if we wanna compare the \n",
    "# posterior-odds ratio of p(Y=1|Data)/p(Y=0|Data), we should predict Y=1 ONLY IF this ratio > 5. or log(posterior) > log(5).\n",
    "\n",
    "log_Bayes_odds = life_model_2feature.score_samples(short_X_test_2feat) - death_model_2feature.score_samples(short_X_test_2feat)\n",
    "\n",
    "log_prior_odds = np.log(short_df_2life.shape[0]/short_df_2death.shape[0])\n",
    "\n",
    "log_posterior_odds = log_Bayes_odds + ( log_prior_odds*np.ones(short_X_test_2feat.shape[0]) )\n",
    "\n",
    "decisions = []\n",
    "\n",
    "threshold = 20\n",
    "\n",
    "for odds in log_posterior_odds:\n",
    "    if odds > np.log(threshold):\n",
    "        decisions.append(1)\n",
    "    #elif O >= 1.0 and O < 3.0:\n",
    "     #   decisions.append('Uncertain')\n",
    "    else: \n",
    "        decisions.append(0)"
   ]
  },
  {
   "cell_type": "code",
   "execution_count": 200,
   "metadata": {},
   "outputs": [
    {
     "data": {
      "text/plain": [
       "2.995732273553991"
      ]
     },
     "execution_count": 200,
     "metadata": {},
     "output_type": "execute_result"
    }
   ],
   "source": [
    "np.log(threshold)"
   ]
  },
  {
   "cell_type": "code",
   "execution_count": 201,
   "metadata": {},
   "outputs": [
    {
     "data": {
      "text/plain": [
       "array([ 3.48529941e+00, -6.78393567e+03, -1.97142242e+00, -3.31206763e+02,\n",
       "        2.80994699e+00,  2.61120829e+00, -1.49426569e+00,  5.83365744e-01,\n",
       "        2.99045079e+00, -3.64045535e+04,  3.22026225e+00,  3.11878849e+00,\n",
       "        7.21656072e-01,  4.19994865e+00,  4.06208243e+00,  2.95120847e+00,\n",
       "        3.29158937e+00,  3.42581703e+00, -8.04746704e+00,  5.91187470e+00,\n",
       "        4.15531448e+00, -3.58919383e+00,  3.46565358e+00,  3.11086789e+00,\n",
       "        4.40893213e+00,  3.79412127e-01,  2.80472854e+00,  1.09713167e+00,\n",
       "        1.60526373e+00, -1.32238656e+07,  2.20359376e+00, -4.02527431e+00,\n",
       "        3.66568128e+00,  2.91196606e+00, -1.02331008e+02,  3.28084945e+00,\n",
       "        2.89295629e+00,  2.14079869e+00, -3.29694208e-01, -1.06417991e+01,\n",
       "       -2.63846858e+00,  2.85788364e+00, -2.18353835e+00,  3.13669549e+00,\n",
       "       -1.80587529e+00, -1.93719994e+00, -1.52502648e+00, -1.57916667e+01,\n",
       "        3.42091739e+00,  2.86026100e+00])"
      ]
     },
     "execution_count": 201,
     "metadata": {},
     "output_type": "execute_result"
    }
   ],
   "source": [
    "log_posterior_odds"
   ]
  },
  {
   "cell_type": "markdown",
   "metadata": {},
   "source": [
    "$(Model Odds)*(Prior Odds) = \\frac{p(Y=1|Data)}{p(Y=0|Data)} = \\frac{p(Patient Survived)}{p(Patient Died)}≥ 5$"
   ]
  },
  {
   "cell_type": "code",
   "execution_count": 202,
   "metadata": {},
   "outputs": [
    {
     "data": {
      "image/png": "[encoded data removed]",
      "text/plain": [
       "<Figure size 432x288 with 2 Axes>"
      ]
     },
     "metadata": {
      "needs_background": "light"
     },
     "output_type": "display_data"
    }
   ],
   "source": [
    "from sklearn.metrics import ConfusionMatrixDisplay\n",
    "from sklearn.metrics import confusion_matrix \n",
    "\n",
    "cmatrix = confusion_matrix(np.asarray(y_test), np.asarray(decisions))\n",
    "\n",
    "cmatrix_display = ConfusionMatrixDisplay(cmatrix).plot()"
   ]
  },
  {
   "cell_type": "code",
   "execution_count": null,
   "metadata": {},
   "outputs": [],
   "source": []
  }
 ],
 "metadata": {
  "kernelspec": {
   "display_name": "Python 3",
   "language": "python",
   "name": "python3"
  },
  "language_info": {
   "codemirror_mode": {
    "name": "ipython",
    "version": 3
   },
   "file_extension": ".py",
   "mimetype": "text/x-python",
   "name": "python",
   "nbconvert_exporter": "python",
   "pygments_lexer": "ipython3",
   "version": "3.7.4"
  }
 },
 "nbformat": 4,
 "nbformat_minor": 2
}
